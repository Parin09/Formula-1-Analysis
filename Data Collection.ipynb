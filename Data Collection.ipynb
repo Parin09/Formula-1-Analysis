{
 "cells": [
  {
   "cell_type": "markdown",
   "metadata": {},
   "source": [
    "## Data Collection and Cleaning"
   ]
  },
  {
   "cell_type": "markdown",
   "metadata": {},
   "source": [
    "The data of the ratings of race were collected from racefans.net and stored in a text file.<br>Later the text file was converted to dataframe and saved as a csv file for future use"
   ]
  },
  {
   "cell_type": "code",
   "execution_count": 23,
   "metadata": {},
   "outputs": [],
   "source": [
    "file1 = open(\"TextFiles/top100races.txt\",\"r+\") \n",
    "lines = []\n",
    "for x in file1:\n",
    "    lines.append(x)\n",
    "    \n",
    "linesnew = []    \n",
    "for i in range(len(lines)):\n",
    "    if i%2==0:\n",
    "        linesnew.append(lines[i])\n",
    "        \n",
    "linesnew2 = []\n",
    "for i in range(len(linesnew)):\n",
    "    linesnew2.append(linesnew[i][:-4])\n",
    "\n",
    "scores = []\n",
    "for i in range(len(linesnew2)):\n",
    "    scores.append(linesnew2[i][-4:])\n",
    "\n",
    "scoresfins = []\n",
    "for i in range(len(scores)):\n",
    "    scoresfin.append(float(scores[i].strip()))\n",
    "    \n",
    "year = []\n",
    "for i in range(len(linesnew2)):\n",
    "    if i<9:\n",
    "        year.append(int(linesnew2[i][3:7]))\n",
    "    elif i>=9 and i<99:\n",
    "        year.append(int(linesnew2[i][4:8]))\n",
    "    else:\n",
    "        year.append(int(linesnew2[i][5:9]))\n",
    "        \n",
    "circuit = []\n",
    "for i in range(len(linesnew2)):\n",
    "    x = linesnew2[i].find('-')\n",
    "    if i<9:\n",
    "        circuit.append(linesnew2[i][8:x-1])\n",
    "    elif i>=9 and i<99:\n",
    "        circuit.append(linesnew2[i][9:x-1])\n",
    "    else:\n",
    "        circuit.append(linesnew2[i][10:x-1])"
   ]
  },
  {
   "cell_type": "code",
   "execution_count": 25,
   "metadata": {},
   "outputs": [
    {
     "data": {
      "text/html": [
       "<div>\n",
       "<style scoped>\n",
       "    .dataframe tbody tr th:only-of-type {\n",
       "        vertical-align: middle;\n",
       "    }\n",
       "\n",
       "    .dataframe tbody tr th {\n",
       "        vertical-align: top;\n",
       "    }\n",
       "\n",
       "    .dataframe thead th {\n",
       "        text-align: right;\n",
       "    }\n",
       "</style>\n",
       "<table border=\"1\" class=\"dataframe\">\n",
       "  <thead>\n",
       "    <tr style=\"text-align: right;\">\n",
       "      <th></th>\n",
       "      <th>Year</th>\n",
       "      <th>Circuit</th>\n",
       "      <th>Rating</th>\n",
       "    </tr>\n",
       "  </thead>\n",
       "  <tbody>\n",
       "    <tr>\n",
       "      <td>0</td>\n",
       "      <td>2012</td>\n",
       "      <td>Brazilian Grand Prix</td>\n",
       "      <td>9.45</td>\n",
       "    </tr>\n",
       "    <tr>\n",
       "      <td>1</td>\n",
       "      <td>2019</td>\n",
       "      <td>German Grand Prix</td>\n",
       "      <td>9.44</td>\n",
       "    </tr>\n",
       "    <tr>\n",
       "      <td>2</td>\n",
       "      <td>2011</td>\n",
       "      <td>Chinese Grand Prix</td>\n",
       "      <td>9.24</td>\n",
       "    </tr>\n",
       "    <tr>\n",
       "      <td>3</td>\n",
       "      <td>2014</td>\n",
       "      <td>Canadian Grand Prix</td>\n",
       "      <td>9.19</td>\n",
       "    </tr>\n",
       "    <tr>\n",
       "      <td>4</td>\n",
       "      <td>2014</td>\n",
       "      <td>Hungarian Grand Prix</td>\n",
       "      <td>9.14</td>\n",
       "    </tr>\n",
       "  </tbody>\n",
       "</table>\n",
       "</div>"
      ],
      "text/plain": [
       "   Year               Circuit  Rating\n",
       "0  2012  Brazilian Grand Prix    9.45\n",
       "1  2019     German Grand Prix    9.44\n",
       "2  2011    Chinese Grand Prix    9.24\n",
       "3  2014   Canadian Grand Prix    9.19\n",
       "4  2014  Hungarian Grand Prix    9.14"
      ]
     },
     "execution_count": 25,
     "metadata": {},
     "output_type": "execute_result"
    }
   ],
   "source": [
    "import pandas as pd\n",
    "df = pd.DataFrame(list(zip(year,circuit,scoresfin)),columns=['Year','Circuit','Rating'])\n",
    "df.head()"
   ]
  },
  {
   "cell_type": "code",
   "execution_count": 26,
   "metadata": {},
   "outputs": [],
   "source": [
    "races = pd.read_csv('Dataset/races.csv')\n",
    "rid = races['raceId'].tolist()\n",
    "yrr = races['year'].tolist() \n",
    "cir = races['name'].tolist()"
   ]
  },
  {
   "cell_type": "code",
   "execution_count": 27,
   "metadata": {},
   "outputs": [],
   "source": [
    "raceID = []\n",
    "for i in range(len(circuit)):\n",
    "    yr = year[i]\n",
    "    nm = circuit[i]\n",
    "    flag = True\n",
    "    for j in range(len(rid)):\n",
    "        if yrr[j] == yr and cir[j] == nm:\n",
    "            raceID.append(rid[j])\n",
    "            flag = False\n",
    "    if flag:\n",
    "        if i == 77:\n",
    "            raceID.append(353)\n",
    "        if i == 88:\n",
    "            raceID.append(894)"
   ]
  },
  {
   "cell_type": "code",
   "execution_count": 28,
   "metadata": {},
   "outputs": [
    {
     "data": {
      "text/html": [
       "<div>\n",
       "<style scoped>\n",
       "    .dataframe tbody tr th:only-of-type {\n",
       "        vertical-align: middle;\n",
       "    }\n",
       "\n",
       "    .dataframe tbody tr th {\n",
       "        vertical-align: top;\n",
       "    }\n",
       "\n",
       "    .dataframe thead th {\n",
       "        text-align: right;\n",
       "    }\n",
       "</style>\n",
       "<table border=\"1\" class=\"dataframe\">\n",
       "  <thead>\n",
       "    <tr style=\"text-align: right;\">\n",
       "      <th></th>\n",
       "      <th>RaceID</th>\n",
       "      <th>Year</th>\n",
       "      <th>Circuit</th>\n",
       "      <th>Rating</th>\n",
       "    </tr>\n",
       "  </thead>\n",
       "  <tbody>\n",
       "    <tr>\n",
       "      <td>0</td>\n",
       "      <td>879</td>\n",
       "      <td>2012</td>\n",
       "      <td>Brazilian Grand Prix</td>\n",
       "      <td>9.45</td>\n",
       "    </tr>\n",
       "    <tr>\n",
       "      <td>1</td>\n",
       "      <td>1020</td>\n",
       "      <td>2019</td>\n",
       "      <td>German Grand Prix</td>\n",
       "      <td>9.44</td>\n",
       "    </tr>\n",
       "    <tr>\n",
       "      <td>2</td>\n",
       "      <td>843</td>\n",
       "      <td>2011</td>\n",
       "      <td>Chinese Grand Prix</td>\n",
       "      <td>9.24</td>\n",
       "    </tr>\n",
       "    <tr>\n",
       "      <td>3</td>\n",
       "      <td>906</td>\n",
       "      <td>2014</td>\n",
       "      <td>Canadian Grand Prix</td>\n",
       "      <td>9.19</td>\n",
       "    </tr>\n",
       "    <tr>\n",
       "      <td>4</td>\n",
       "      <td>910</td>\n",
       "      <td>2014</td>\n",
       "      <td>Hungarian Grand Prix</td>\n",
       "      <td>9.14</td>\n",
       "    </tr>\n",
       "  </tbody>\n",
       "</table>\n",
       "</div>"
      ],
      "text/plain": [
       "   RaceID  Year               Circuit  Rating\n",
       "0     879  2012  Brazilian Grand Prix    9.45\n",
       "1    1020  2019     German Grand Prix    9.44\n",
       "2     843  2011    Chinese Grand Prix    9.24\n",
       "3     906  2014   Canadian Grand Prix    9.19\n",
       "4     910  2014  Hungarian Grand Prix    9.14"
      ]
     },
     "execution_count": 28,
     "metadata": {},
     "output_type": "execute_result"
    }
   ],
   "source": [
    "df3 = pd.DataFrame(list(zip(raceID,year,circuit,scoresfin)),columns=['RaceID','Year','Circuit','Rating'])\n",
    "df3.head()"
   ]
  },
  {
   "cell_type": "code",
   "execution_count": 343,
   "metadata": {},
   "outputs": [],
   "source": [
    "# DF TO EXCEL\n",
    "from pandas import ExcelWriter\n",
    "\n",
    "writer = ExcelWriter('Top100Races.xlsx')\n",
    "df3.to_excel(writer)\n",
    "writer.save()\n",
    "\n",
    "# DF TO CSV\n",
    "df3.to_csv('Top100Races.csv', sep=',')"
   ]
  }
 ],
 "metadata": {
  "kernelspec": {
   "display_name": "Python 3",
   "language": "python",
   "name": "python3"
  },
  "language_info": {
   "codemirror_mode": {
    "name": "ipython",
    "version": 3
   },
   "file_extension": ".py",
   "mimetype": "text/x-python",
   "name": "python",
   "nbconvert_exporter": "python",
   "pygments_lexer": "ipython3",
   "version": "3.7.4"
  }
 },
 "nbformat": 4,
 "nbformat_minor": 2
}
